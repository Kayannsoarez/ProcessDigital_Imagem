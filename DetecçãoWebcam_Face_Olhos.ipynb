{
  "nbformat": 4,
  "nbformat_minor": 0,
  "metadata": {
    "colab": {
      "provenance": []
    },
    "kernelspec": {
      "name": "python3",
      "display_name": "Python 3"
    },
    "language_info": {
      "name": "python"
    }
  },
  "cells": [
    {
      "cell_type": "code",
      "execution_count": 1,
      "metadata": {
        "id": "yAyKETi-FXT_"
      },
      "outputs": [],
      "source": [
        "# Importando as Bibiotecas\n",
        "import cv2\n",
        "import numpy as np\n",
        "from matplotlib import pyplot as plt\n",
        "from IPython.display import display, Javascript\n",
        "from IPython.display import Image\n",
        "from google.colab.output import eval_js\n",
        "from base64 import b64decode"
      ]
    },
    {
      "cell_type": "code",
      "source": [
        "# Função de Exibição\n",
        "def imshow(title = \"Image\", image = None, size = 8):\n",
        "    w, h = image.shape[0], image.shape[1]\n",
        "    aspect_ratio = w/h\n",
        "    plt.figure(figsize=(size * aspect_ratio,size))\n",
        "    plt.imshow(cv2.cvtColor(image, cv2.COLOR_BGR2RGB))\n",
        "    plt.title(title)\n",
        "    plt.show()"
      ],
      "metadata": {
        "id": "Fx3W3GluFbZJ"
      },
      "execution_count": 2,
      "outputs": []
    },
    {
      "cell_type": "markdown",
      "source": [
        "## **Captura da Imagem via Webcam**"
      ],
      "metadata": {
        "id": "wrT71CP5nKX7"
      }
    },
    {
      "cell_type": "code",
      "source": [
        "# Função criada para tirar fotos via WebCam\n",
        "def take_photo(filename='photo.jpg', quality=0.8):\n",
        "\n",
        "  js = Javascript('''\n",
        "    async function takePhoto(quality) {\n",
        "      const div = document.createElement('div');\n",
        "      const capture = document.createElement('button');\n",
        "      capture.textContent = 'Capture';\n",
        "      div.appendChild(capture);\n",
        "\n",
        "      const video = document.createElement('video');\n",
        "      video.style.display = 'block';\n",
        "      const stream = await navigator.mediaDevices.getUserMedia({video: true});\n",
        "\n",
        "      document.body.appendChild(div);\n",
        "      div.appendChild(video);\n",
        "      video.srcObject = stream;\n",
        "      await video.play();\n",
        "\n",
        "      // Redimensionando a saída para ajustar o elemento de vídeo.\n",
        "      google.colab.output.setIframeHeight(document.documentElement.scrollHeight, true);\n",
        "\n",
        "      // Aguarde o clique em Capture.\n",
        "      await new Promise((resolve) => capture.onclick = resolve);\n",
        "\n",
        "      const canvas = document.createElement('canvas');\n",
        "      canvas.width = video.videoWidth;\n",
        "      canvas.height = video.videoHeight;\n",
        "      canvas.getContext('2d').drawImage(video, 0, 0);\n",
        "      stream.getVideoTracks()[0].stop();\n",
        "      div.remove();\n",
        "      return canvas.toDataURL('image/jpeg', quality);\n",
        "    }\n",
        "    ''')\n",
        "  display(js)\n",
        "\n",
        "  data = eval_js('takePhoto({})'.format(quality))\n",
        "  binary = b64decode(data.split(',')[1])\n",
        "\n",
        "  with open(filename, 'wb') as f:\n",
        "    f.write(binary)\n",
        "  return filename"
      ],
      "metadata": {
        "id": "IKXfBp00kUs6"
      },
      "execution_count": null,
      "outputs": []
    },
    {
      "cell_type": "code",
      "source": [
        "try:\n",
        "  filename = take_photo()\n",
        "  print('Salvo em {}'.format(filename))\n",
        "  \n",
        "  # Mostrando a imagem que acabou de ser tirada.\n",
        "  display(Image(filename))\n",
        "except Exception as err:\n",
        "  # Erros lançados se o usuário não tiver uma webcam ou se não tiver concedido permissão à página para acessá-la.\n",
        "  print(str(err))"
      ],
      "metadata": {
        "id": "pVohrBHLl9Yj"
      },
      "execution_count": null,
      "outputs": []
    },
    {
      "cell_type": "markdown",
      "source": [
        "## **Detecção Olhos e Faces - Classificador HaarCascade**"
      ],
      "metadata": {
        "id": "JjQNMS2pnmIb"
      }
    },
    {
      "cell_type": "code",
      "source": [
        "# Carrengando os Modelos de Classificadores\n",
        "face_classifier = cv2.CascadeClassifier('/content/haarcascade_frontalface_default.xml')\n",
        "eye_classifier = cv2.CascadeClassifier('/content/haarcascade_eye.xml')"
      ],
      "metadata": {
        "id": "uKl54dnemrnx"
      },
      "execution_count": null,
      "outputs": []
    },
    {
      "cell_type": "code",
      "source": [
        "# Carregando imagem e Convertendo em Escala de Cinza\n",
        "img = cv2.imread('photo.jpg')\n",
        "gray = cv2.cvtColor(img, cv2.COLOR_BGR2GRAY)\n",
        "\n",
        "# Deteção de Faces\n",
        "faces = face_classifier.detectMultiScale(gray, scaleFactor = 1.3, minNeighbors = 5)\n",
        "\n",
        "# Caso para nenhuma face detectada\n",
        "if faces is ():\n",
        "    print(\"Nenhuma Face Encontrada\")\n",
        "\n",
        "for (x,y,w,h) in faces:\n",
        "    cv2.rectangle(img,(x,y),(x+w,y+h),(127,0,255),2)\n",
        "    roi_gray = gray[y:y+h, x:x+w]\n",
        "    roi_color = img[y:y+h, x:x+w]\n",
        "    eyes = eye_classifier.detectMultiScale(roi_gray, 1.2, 3)\n",
        "    for (ex,ey,ew,eh) in eyes:\n",
        "        cv2.rectangle(roi_color,(ex,ey),(ex+ew,ey+eh),(255,255,0),2)\n",
        "\n",
        "imshow('Olhos e Faces Detecadas', img)"
      ],
      "metadata": {
        "id": "mEUDdKdpm2mp"
      },
      "execution_count": null,
      "outputs": []
    }
  ]
}